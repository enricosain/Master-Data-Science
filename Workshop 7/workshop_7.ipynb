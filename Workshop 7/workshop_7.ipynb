{
 "cells": [
  {
   "cell_type": "markdown",
   "metadata": {
    "toc": true
   },
   "source": [
    "<h1>Table of Contents<span class=\"tocSkip\"></span></h1>\n",
    "<div class=\"toc\"><ul class=\"toc-item\"></ul></div>"
   ]
  },
  {
   "cell_type": "markdown",
   "metadata": {},
   "source": [
    "**TABLEAU:**\n",
    "\n",
    "**Contesto:**\n",
    "Il cliente per cui stai lavorando non sa niente di data science e non è stato in grado di spiegarti quali caratteristiche debba avere la dashboard. Il tuo contratto sta per scadere, senti che il cliente non abbia molta stima del tuo lavoro e vuoi consegnargli qualcosa che gli sarà immediatamente utile. È un investitore interessato sia a sviluppare resort per il turismo di massa che ad aprire negozi di beni di lusso in località turistiche.\n",
    "\n",
    "\n",
    "**Obiettivo:** Creare una dashboard sulla situazione internazionale del mondo del turismo, che illustri i suoi andamenti nel corso degli anni\n",
    "\n",
    "Dati a disposizione:\n",
    "\n",
    "- https://data.worldbank.org/indicator/ST.INT.XPND.MP.ZS?view=chart (i dati fino al 2019 forniti dalla World Bank)\n",
    "\n",
    "Da questi dati puoi capire il valore del turismo in-bound e out-bound, totale e medio per turista. \n",
    "Puoi usare il sito per trovare anche altri dataset che ritieni interessanti.\n",
    "\n",
    "- Per le tue analisi, puoi incrociare anche dei dati riguardanti il turismo sostenibile, qui un esempio (https://www.statista.com/topics/1916/green-tourism/#dossierKeyfigures)\n",
    "\n",
    "Mostra i grafici e i KPI che ritieni più interessanti per un’audience non tecnica.\n",
    "\n",
    "Un esempio di dashboard sul turismo internazionale https://public.tableau.com/app/profile/jethrochen/viz/WorldwideInternationalTourism/WorldwideInternationalTourism per ispirarvi 🙂\n",
    "\n",
    "\n",
    "La dashboard dovrebbe già essere chiara senza spiegazioni. Puoi comunque aggiungere dei commenti e soprattutto l’indicazione di chi ti immagini sia il target potenziale dei tuoi dati, e come questo target potenziale potrebbe usare i dati che mostri per prendere delle decisioni strategiche.\n",
    " \n",
    "\n"
   ]
  },
  {
   "cell_type": "code",
   "execution_count": null,
   "metadata": {},
   "outputs": [],
   "source": []
  }
 ],
 "metadata": {
  "kernelspec": {
   "display_name": "Python 3",
   "language": "python",
   "name": "python3"
  },
  "language_info": {
   "codemirror_mode": {
    "name": "ipython",
    "version": 3
   },
   "file_extension": ".py",
   "mimetype": "text/x-python",
   "name": "python",
   "nbconvert_exporter": "python",
   "pygments_lexer": "ipython3",
   "version": "3.9.13"
  },
  "toc": {
   "base_numbering": 1,
   "nav_menu": {},
   "number_sections": true,
   "sideBar": true,
   "skip_h1_title": false,
   "title_cell": "Table of Contents",
   "title_sidebar": "Contents",
   "toc_cell": true,
   "toc_position": {
    "height": "calc(100% - 180px)",
    "left": "10px",
    "top": "150px",
    "width": "165.68px"
   },
   "toc_section_display": true,
   "toc_window_display": true
  }
 },
 "nbformat": 4,
 "nbformat_minor": 4
}
