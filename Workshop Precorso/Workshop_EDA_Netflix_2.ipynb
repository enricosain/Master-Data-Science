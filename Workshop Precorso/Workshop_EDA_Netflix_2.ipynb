{
 "cells": [
  {
   "cell_type": "markdown",
   "metadata": {
    "toc": true
   },
   "source": [
    "<h1>Table of Contents<span class=\"tocSkip\"></span></h1>\n",
    "<div class=\"toc\"><ul class=\"toc-item\"><li><span><a href=\"#1.-Loading-your-friend's-data-into-a-dictionary\" data-toc-modified-id=\"1.-Loading-your-friend's-data-into-a-dictionary-1\"><span class=\"toc-item-num\">1&nbsp;&nbsp;</span>1. Loading your friend's data into a dictionary</a></span><ul class=\"toc-item\"><li><span><a href=\"#Extra!\" data-toc-modified-id=\"Extra!-1.1\"><span class=\"toc-item-num\">1.1&nbsp;&nbsp;</span>Extra!</a></span></li></ul></li><li><span><a href=\"#2.-Getting-started-with-NumPy\" data-toc-modified-id=\"2.-Getting-started-with-NumPy-2\"><span class=\"toc-item-num\">2&nbsp;&nbsp;</span>2. Getting started with NumPy</a></span></li><li><span><a href=\"#2.-Creating-a-DataFrame-from-a-dictionary\" data-toc-modified-id=\"2.-Creating-a-DataFrame-from-a-dictionary-3\"><span class=\"toc-item-num\">3&nbsp;&nbsp;</span>2. Creating a DataFrame from a dictionary</a></span></li><li><span><a href=\"#3.-A-visual-inspection-of-our-data\" data-toc-modified-id=\"3.-A-visual-inspection-of-our-data-4\"><span class=\"toc-item-num\">4&nbsp;&nbsp;</span>3. A visual inspection of our data</a></span></li><li><span><a href=\"#4.-Loading-the-rest-of-the-data-from-a-CSV\" data-toc-modified-id=\"4.-Loading-the-rest-of-the-data-from-a-CSV-5\"><span class=\"toc-item-num\">5&nbsp;&nbsp;</span>4. Loading the rest of the data from a CSV</a></span></li><li><span><a href=\"#5.-Filtering-for-movies!\" data-toc-modified-id=\"5.-Filtering-for-movies!-6\"><span class=\"toc-item-num\">6&nbsp;&nbsp;</span>5. Filtering for movies!</a></span></li></ul></div>"
   ]
  },
  {
   "cell_type": "markdown",
   "metadata": {},
   "source": [
    "<h1>Table of Contents<span class=\"tocSkip\"></span></h1>\n",
    "\n",
    "<div class=\"toc\"><ul class=\"toc-item\"><li><span><a href=\"#1.-Loading-your-friend's-data-into-a-dictionary\" data-toc-modified-id=\"1.-Loading-your-friend's-data-into-a-dictionary-1\"><span class=\"toc-item-num\">1&nbsp;&nbsp;</span>1. Loading your friend's data into a dictionary</a></span><ul class=\"toc-item\"><li><span><a href=\"#Extra!\" data-toc-modified-id=\"Extra!-1.1\"><span class=\"toc-item-num\">1.1&nbsp;&nbsp;</span>Extra!</a></span></li></ul></li><li><span><a href=\"#2.-Getting-started-with-NumPy\" data-toc-modified-id=\"2.-Getting-started-with-NumPy-2\"><span class=\"toc-item-num\">2&nbsp;&nbsp;</span>2. Getting started with NumPy</a></span></li><li><span><a href=\"#2.-Creating-a-DataFrame-from-a-dictionary\" data-toc-modified-id=\"2.-Creating-a-DataFrame-from-a-dictionary-3\"><span class=\"toc-item-num\">3&nbsp;&nbsp;</span>2. Creating a DataFrame from a dictionary</a></span></li><li><span><a href=\"#3.-A-visual-inspection-of-our-data\" data-toc-modified-id=\"3.-A-visual-inspection-of-our-data-4\"><span class=\"toc-item-num\">4&nbsp;&nbsp;</span>3. A visual inspection of our data</a></span></li><li><span><a href=\"#4.-Loading-the-rest-of-the-data-from-a-CSV\" data-toc-modified-id=\"4.-Loading-the-rest-of-the-data-from-a-CSV-5\"><span class=\"toc-item-num\">5&nbsp;&nbsp;</span>4. Loading the rest of the data from a CSV</a></span></li><li><span><a href=\"#5.-Filtering-for-movies!\" data-toc-modified-id=\"5.-Filtering-for-movies!-6\"><span class=\"toc-item-num\">6&nbsp;&nbsp;</span>5. Filtering for movies!</a></span></li></ul></div>\n",
    "\n"
   ]
  },
  {
   "cell_type": "code",
   "execution_count": 1,
   "metadata": {
    "id": "v4cJjiCylAwh",
    "outputId": "cf972f1c-6f9f-4e0b-a956-f7c6ff330a70"
   },
   "outputs": [
    {
     "data": {
      "image/jpeg": "[encoded data removed]",
      "text/plain": [
       "<IPython.core.display.Image object>"
      ]
     },
     "execution_count": 1,
     "metadata": {},
     "output_type": "execute_result"
    }
   ],
   "source": [
    "from IPython.display import Image\n",
    "Image(filename = 'netflix-icona.jpeg')"
   ]
  },
  {
   "cell_type": "markdown",
   "metadata": {
    "id": "2msekGDTlAwk"
   },
   "source": [
    "## 1. Loading your friend's data into a dictionary"
   ]
  },
  {
   "cell_type": "markdown",
   "metadata": {
    "id": "BfyjiwIdlAwk"
   },
   "source": [
    "Netflix! What started in 1997 as a DVD rental service has since exploded into the largest entertainment/media company by <a href=\"https://www.marketwatch.com/story/netflix-shares-close-up-8-for-yet-another-record-high-2020-07-10\">market capitalization</a>, boasting over 200 million subscribers as of <a href=\"https://www.cbsnews.com/news/netflix-tops-200-million-subscribers-but-faces-growing-challenge-from-disney-plus/\">January 2021</a>.\n",
    "\n",
    "Given the large number of movies and series available on the platform, it is a perfect opportunity to flex our data manipulation skills and dive into the entertainment industry. Our friend has also been brushing up on their Python skills and has taken a first crack at a CSV file containing Netflix data. For their first order of business, they have been performing some analyses, and they believe that the average duration of movies has been declining.\n",
    "\n",
    "As evidence of this, they have provided us with the following information. For the years from 2011 to 2020, the average movie durations are 103, 101, 99, 100, 100, 95, 95, 96, 93, and 90, respectively."
   ]
  },
  {
   "cell_type": "markdown",
   "metadata": {},
   "source": [
    "### 1.1 Create years and duration lists"
   ]
  },
  {
   "cell_type": "code",
   "execution_count": 2,
   "metadata": {
    "scrolled": true
   },
   "outputs": [
    {
     "name": "stdout",
     "output_type": "stream",
     "text": [
      "[2011, 2012, 2013, 2014, 2015, 2016, 2017, 2018, 2019, 2020]\n",
      "[103, 101, 99, 100, 100, 95, 95, 96, 93, 90]\n"
     ]
    }
   ],
   "source": [
    "years=[2011, 2012, 2013, 2014, 2015, 2016, 2017, 2018, 2019, 2020]\n",
    "duration=[103, 101, 99, 100, 100, 95, 95, 96, 93, 90]\n",
    "print(years)\n",
    "print(duration)"
   ]
  },
  {
   "cell_type": "code",
   "execution_count": 3,
   "metadata": {},
   "outputs": [
    {
     "data": {
      "text/plain": [
       "[2011, 2012, 2013, 2014, 2015, 2016, 2017, 2018, 2019, 2020]"
      ]
     },
     "execution_count": 3,
     "metadata": {},
     "output_type": "execute_result"
    }
   ],
   "source": [
    "years=list(range(2011,2021))\n",
    "years"
   ]
  },
  {
   "cell_type": "markdown",
   "metadata": {},
   "source": [
    "### 1.2 Print the 4th element of the years"
   ]
  },
  {
   "cell_type": "code",
   "execution_count": 4,
   "metadata": {},
   "outputs": [
    {
     "name": "stdout",
     "output_type": "stream",
     "text": [
      "2014\n"
     ]
    }
   ],
   "source": [
    "print(years[3])"
   ]
  },
  {
   "cell_type": "markdown",
   "metadata": {},
   "source": [
    "### 1.3 Print the elements between the second and the fifth of the duration list"
   ]
  },
  {
   "cell_type": "code",
   "execution_count": 5,
   "metadata": {
    "scrolled": true
   },
   "outputs": [
    {
     "name": "stdout",
     "output_type": "stream",
     "text": [
      "[101, 99, 100, 100]\n"
     ]
    }
   ],
   "source": [
    "print(duration[1:5])"
   ]
  },
  {
   "cell_type": "markdown",
   "metadata": {},
   "source": [
    "### 1.4 Create a FOR cycle to print each pair of elements of the two lists in the format '''anno: xxxx durata: yyy'''"
   ]
  },
  {
   "cell_type": "code",
   "execution_count": 6,
   "metadata": {},
   "outputs": [
    {
     "name": "stdout",
     "output_type": "stream",
     "text": [
      "anno: 2011, durata: 103\n",
      "anno: 2012, durata: 101\n",
      "anno: 2013, durata: 99\n",
      "anno: 2014, durata: 100\n",
      "anno: 2015, durata: 100\n",
      "anno: 2016, durata: 95\n",
      "anno: 2017, durata: 95\n",
      "anno: 2018, durata: 96\n",
      "anno: 2019, durata: 93\n",
      "anno: 2020, durata: 90\n"
     ]
    }
   ],
   "source": [
    "for i in range(10):\n",
    "    print(\"anno: {}, durata: {}\".format(years[i], duration[i]))"
   ]
  },
  {
   "cell_type": "markdown",
   "metadata": {},
   "source": [
    "### 1.5 Create a dictionary with the two lists and print the dictionary"
   ]
  },
  {
   "cell_type": "code",
   "execution_count": 7,
   "metadata": {
    "scrolled": true
   },
   "outputs": [
    {
     "name": "stdout",
     "output_type": "stream",
     "text": [
      "{2011: 103, 2012: 101, 2013: 99, 2014: 100, 2015: 100, 2016: 95, 2017: 95, 2018: 96, 2019: 93, 2020: 90}\n"
     ]
    }
   ],
   "source": [
    "movie_dict = dict(zip(years, duration))\n",
    "print(movie_dict)"
   ]
  },
  {
   "cell_type": "markdown",
   "metadata": {},
   "source": [
    "## 2. Getting started with NumPy"
   ]
  },
  {
   "cell_type": "markdown",
   "metadata": {},
   "source": [
    "### 2.1 Create a 3x3 numpy array with values between 0 and 8"
   ]
  },
  {
   "cell_type": "code",
   "execution_count": 8,
   "metadata": {},
   "outputs": [],
   "source": [
    "import numpy as np"
   ]
  },
  {
   "cell_type": "code",
   "execution_count": 9,
   "metadata": {},
   "outputs": [
    {
     "data": {
      "text/plain": [
       "array([[0, 1, 2],\n",
       "       [3, 4, 5],\n",
       "       [6, 7, 8]])"
      ]
     },
     "execution_count": 9,
     "metadata": {},
     "output_type": "execute_result"
    }
   ],
   "source": [
    "a = np.arange(0,9).reshape(3,3)\n",
    "a"
   ]
  },
  {
   "cell_type": "markdown",
   "metadata": {},
   "source": [
    "### 2.2 Create a randomized vector with 30 values and find the average"
   ]
  },
  {
   "cell_type": "code",
   "execution_count": 10,
   "metadata": {},
   "outputs": [],
   "source": [
    "import numpy.random as rdm"
   ]
  },
  {
   "cell_type": "code",
   "execution_count": 11,
   "metadata": {},
   "outputs": [
    {
     "data": {
      "text/plain": [
       "array([[0.2607896 , 0.43486283, 0.95366751, 0.87454056, 0.96122689,\n",
       "        0.19941093, 0.44158102, 0.89756468, 0.06488036, 0.23654591,\n",
       "        0.57948605, 0.35864132, 0.12797647, 0.7264728 , 0.58966567,\n",
       "        0.55651874, 0.08870883, 0.01585621, 0.36773115, 0.63444203,\n",
       "        0.56191252, 0.08941302, 0.30153506, 0.53274042, 0.91326369,\n",
       "        0.33302513, 0.74343727, 0.48318746, 0.56722583, 0.2158374 ]])"
      ]
     },
     "execution_count": 11,
     "metadata": {},
     "output_type": "execute_result"
    }
   ],
   "source": [
    "r = rdm.random((1,30))\n",
    "r"
   ]
  },
  {
   "cell_type": "code",
   "execution_count": 12,
   "metadata": {},
   "outputs": [
    {
     "data": {
      "text/plain": [
       "0.47040491214067504"
      ]
     },
     "execution_count": 12,
     "metadata": {},
     "output_type": "execute_result"
    }
   ],
   "source": [
    "np.mean(r)"
   ]
  },
  {
   "cell_type": "markdown",
   "metadata": {},
   "source": [
    "### 2.3 Convert the lists of the previous point in a numpy array"
   ]
  },
  {
   "cell_type": "code",
   "execution_count": 13,
   "metadata": {},
   "outputs": [
    {
     "data": {
      "text/plain": [
       "array([2011, 2012, 2013, 2014, 2015, 2016, 2017, 2018, 2019, 2020])"
      ]
     },
     "execution_count": 13,
     "metadata": {},
     "output_type": "execute_result"
    }
   ],
   "source": [
    "y = np.array(years)\n",
    "y"
   ]
  },
  {
   "cell_type": "code",
   "execution_count": 14,
   "metadata": {},
   "outputs": [
    {
     "data": {
      "text/plain": [
       "array([103, 101,  99, 100, 100,  95,  95,  96,  93,  90])"
      ]
     },
     "execution_count": 14,
     "metadata": {},
     "output_type": "execute_result"
    }
   ],
   "source": [
    "d = np.array(duration)\n",
    "d"
   ]
  },
  {
   "cell_type": "markdown",
   "metadata": {
    "id": "7q9TKxKOlAwn"
   },
   "source": [
    "## 3. Creating a DataFrame from a dictionary\n",
    "<p>To convert our dictionary <code>movie_dict</code> to a <code>pandas</code> DataFrame, we will first need to import the library under its usual alias. We'll also want to inspect our DataFrame to ensure it was created correctly. Let's perform these steps now.</p>\n",
    "\n",
    "Pandas documentation: https://pandas.pydata.org/docs/user_guide/index.html"
   ]
  },
  {
   "cell_type": "markdown",
   "metadata": {},
   "source": [
    "### 3.1 Import pandas under its usual alias"
   ]
  },
  {
   "cell_type": "code",
   "execution_count": 15,
   "metadata": {},
   "outputs": [],
   "source": [
    "import pandas as pd"
   ]
  },
  {
   "cell_type": "markdown",
   "metadata": {},
   "source": [
    "### 3.2 Create a DataFrame from the dictionary"
   ]
  },
  {
   "cell_type": "code",
   "execution_count": 16,
   "metadata": {},
   "outputs": [],
   "source": [
    "dict = pd.DataFrame(list(movie_dict.items()), columns = ['Release Year', 'Duration [min]'])"
   ]
  },
  {
   "cell_type": "markdown",
   "metadata": {},
   "source": [
    "### 3.3 Print the DataFrame"
   ]
  },
  {
   "cell_type": "code",
   "execution_count": 17,
   "metadata": {},
   "outputs": [
    {
     "data": {
      "text/html": [
       "<div>\n",
       "<style scoped>\n",
       "    .dataframe tbody tr th:only-of-type {\n",
       "        vertical-align: middle;\n",
       "    }\n",
       "\n",
       "    .dataframe tbody tr th {\n",
       "        vertical-align: top;\n",
       "    }\n",
       "\n",
       "    .dataframe thead th {\n",
       "        text-align: right;\n",
       "    }\n",
       "</style>\n",
       "<table border=\"1\" class=\"dataframe\">\n",
       "  <thead>\n",
       "    <tr style=\"text-align: right;\">\n",
       "      <th></th>\n",
       "      <th>Release Year</th>\n",
       "      <th>Duration [min]</th>\n",
       "    </tr>\n",
       "  </thead>\n",
       "  <tbody>\n",
       "    <tr>\n",
       "      <th>0</th>\n",
       "      <td>2011</td>\n",
       "      <td>103</td>\n",
       "    </tr>\n",
       "    <tr>\n",
       "      <th>1</th>\n",
       "      <td>2012</td>\n",
       "      <td>101</td>\n",
       "    </tr>\n",
       "    <tr>\n",
       "      <th>2</th>\n",
       "      <td>2013</td>\n",
       "      <td>99</td>\n",
       "    </tr>\n",
       "    <tr>\n",
       "      <th>3</th>\n",
       "      <td>2014</td>\n",
       "      <td>100</td>\n",
       "    </tr>\n",
       "    <tr>\n",
       "      <th>4</th>\n",
       "      <td>2015</td>\n",
       "      <td>100</td>\n",
       "    </tr>\n",
       "    <tr>\n",
       "      <th>5</th>\n",
       "      <td>2016</td>\n",
       "      <td>95</td>\n",
       "    </tr>\n",
       "    <tr>\n",
       "      <th>6</th>\n",
       "      <td>2017</td>\n",
       "      <td>95</td>\n",
       "    </tr>\n",
       "    <tr>\n",
       "      <th>7</th>\n",
       "      <td>2018</td>\n",
       "      <td>96</td>\n",
       "    </tr>\n",
       "    <tr>\n",
       "      <th>8</th>\n",
       "      <td>2019</td>\n",
       "      <td>93</td>\n",
       "    </tr>\n",
       "    <tr>\n",
       "      <th>9</th>\n",
       "      <td>2020</td>\n",
       "      <td>90</td>\n",
       "    </tr>\n",
       "  </tbody>\n",
       "</table>\n",
       "</div>"
      ],
      "text/plain": [
       "   Release Year  Duration [min]\n",
       "0          2011             103\n",
       "1          2012             101\n",
       "2          2013              99\n",
       "3          2014             100\n",
       "4          2015             100\n",
       "5          2016              95\n",
       "6          2017              95\n",
       "7          2018              96\n",
       "8          2019              93\n",
       "9          2020              90"
      ]
     },
     "execution_count": 17,
     "metadata": {},
     "output_type": "execute_result"
    }
   ],
   "source": [
    "dict"
   ]
  },
  {
   "cell_type": "markdown",
   "metadata": {
    "id": "NBrjsyBulAwp"
   },
   "source": [
    "## 4. A visual inspection of our data\n",
    "<p>Alright, we now have a <code>pandas</code> DataFrame, the most common way to work with tabular data in Python. Now back to the task at hand. We want to follow up on our friend's assertion that movie lengths have been decreasing over time. A great place to start will be a visualization of the data.</p>\n",
    "<p>Given that the data is continuous, a line plot would be a good choice, with the dates represented along the x-axis and the average length in minutes along the y-axis. This will allow us to easily spot any trends in movie durations. There are many ways to visualize data in Python, but <code>matploblib.pyplot</code> is one of the most common packages to do so.</p>\n",
    "<p><em>Note: To correctly test your plot, you will need to initalize a <code>matplotlib.pyplot</code> Figure object, which we have already provided in the cell below. "
   ]
  },
  {
   "cell_type": "markdown",
   "metadata": {},
   "source": [
    "### 4.1 Import matplotlib.pyplot under its usual alias and create a figure"
   ]
  },
  {
   "cell_type": "code",
   "execution_count": 18,
   "metadata": {},
   "outputs": [],
   "source": [
    "import matplotlib.pyplot as plt"
   ]
  },
  {
   "cell_type": "markdown",
   "metadata": {},
   "source": [
    "### 4.2 Draw a line plot of release_years and durations, create a title and show the plot"
   ]
  },
  {
   "cell_type": "code",
   "execution_count": 19,
   "metadata": {},
   "outputs": [
    {
     "data": {
      "image/png": "[encoded data removed]",
      "text/plain": [
       "<Figure size 640x480 with 1 Axes>"
      ]
     },
     "metadata": {},
     "output_type": "display_data"
    }
   ],
   "source": [
    "dict.plot(x = 'Release Year', y = 'Duration [min]')\n",
    "\n",
    "plt.title(\"Netflix Average Movie Duration\")\n",
    "\n",
    "plt.show()"
   ]
  },
  {
   "cell_type": "markdown",
   "metadata": {
    "id": "ko7fJk_OlAwr"
   },
   "source": [
    "## 5. Loading the rest of the data from a CSV\n",
    "<p>Well, it looks like there is something to the idea that movie lengths have decreased over the past ten years! But equipped only with our friend's aggregations, we're limited in the further explorations we can perform. There are a few questions about this trend that we are currently unable to answer, including:</p>\n",
    "<ol>\n",
    "<li>What does this trend look like over a longer period of time?</li>\n",
    "<li>Is this explainable by something like the genre of entertainment?</li>\n",
    "</ol>\n",
    "<p>Upon asking our friend for the original CSV they used to perform their analyses, they gladly oblige and send it. We now have access to the CSV file, available at the path <code>\"datasets/netflix_data.csv\"</code>. Let's create another DataFrame, this time with all of the data. Given the length of our friend's data, printing the whole DataFrame is probably not a good idea, so we will inspect it by printing only the first five rows.</p>"
   ]
  },
  {
   "cell_type": "markdown",
   "metadata": {},
   "source": [
    "### 5.1 Read in the CSV as a DataFrame"
   ]
  },
  {
   "cell_type": "code",
   "execution_count": 20,
   "metadata": {},
   "outputs": [],
   "source": [
    "netflix_df = pd.read_csv('netflix_data.csv')"
   ]
  },
  {
   "cell_type": "markdown",
   "metadata": {},
   "source": [
    "### 5.2 Print the first five rows of the DataFrame"
   ]
  },
  {
   "cell_type": "code",
   "execution_count": 21,
   "metadata": {},
   "outputs": [
    {
     "data": {
      "text/html": [
       "<div>\n",
       "<style scoped>\n",
       "    .dataframe tbody tr th:only-of-type {\n",
       "        vertical-align: middle;\n",
       "    }\n",
       "\n",
       "    .dataframe tbody tr th {\n",
       "        vertical-align: top;\n",
       "    }\n",
       "\n",
       "    .dataframe thead th {\n",
       "        text-align: right;\n",
       "    }\n",
       "</style>\n",
       "<table border=\"1\" class=\"dataframe\">\n",
       "  <thead>\n",
       "    <tr style=\"text-align: right;\">\n",
       "      <th></th>\n",
       "      <th>show_id</th>\n",
       "      <th>type</th>\n",
       "      <th>title</th>\n",
       "      <th>director</th>\n",
       "      <th>cast</th>\n",
       "      <th>country</th>\n",
       "      <th>date_added</th>\n",
       "      <th>release_year</th>\n",
       "      <th>duration</th>\n",
       "      <th>description</th>\n",
       "      <th>genre</th>\n",
       "    </tr>\n",
       "  </thead>\n",
       "  <tbody>\n",
       "    <tr>\n",
       "      <th>0</th>\n",
       "      <td>s1</td>\n",
       "      <td>TV Show</td>\n",
       "      <td>3%</td>\n",
       "      <td>NaN</td>\n",
       "      <td>João Miguel, Bianca Comparato, Michel Gomes, R...</td>\n",
       "      <td>Brazil</td>\n",
       "      <td>August 14, 2020</td>\n",
       "      <td>2020</td>\n",
       "      <td>4</td>\n",
       "      <td>In a future where the elite inhabit an island ...</td>\n",
       "      <td>International TV</td>\n",
       "    </tr>\n",
       "    <tr>\n",
       "      <th>1</th>\n",
       "      <td>s2</td>\n",
       "      <td>Movie</td>\n",
       "      <td>7:19</td>\n",
       "      <td>Jorge Michel Grau</td>\n",
       "      <td>Demián Bichir, Héctor Bonilla, Oscar Serrano, ...</td>\n",
       "      <td>Mexico</td>\n",
       "      <td>December 23, 2016</td>\n",
       "      <td>2016</td>\n",
       "      <td>93</td>\n",
       "      <td>After a devastating earthquake hits Mexico Cit...</td>\n",
       "      <td>Dramas</td>\n",
       "    </tr>\n",
       "    <tr>\n",
       "      <th>2</th>\n",
       "      <td>s3</td>\n",
       "      <td>Movie</td>\n",
       "      <td>23:59</td>\n",
       "      <td>Gilbert Chan</td>\n",
       "      <td>Tedd Chan, Stella Chung, Henley Hii, Lawrence ...</td>\n",
       "      <td>Singapore</td>\n",
       "      <td>December 20, 2018</td>\n",
       "      <td>2011</td>\n",
       "      <td>78</td>\n",
       "      <td>When an army recruit is found dead, his fellow...</td>\n",
       "      <td>Horror Movies</td>\n",
       "    </tr>\n",
       "    <tr>\n",
       "      <th>3</th>\n",
       "      <td>s4</td>\n",
       "      <td>Movie</td>\n",
       "      <td>9</td>\n",
       "      <td>Shane Acker</td>\n",
       "      <td>Elijah Wood, John C. Reilly, Jennifer Connelly...</td>\n",
       "      <td>United States</td>\n",
       "      <td>November 16, 2017</td>\n",
       "      <td>2009</td>\n",
       "      <td>80</td>\n",
       "      <td>In a postapocalyptic world, rag-doll robots hi...</td>\n",
       "      <td>Action</td>\n",
       "    </tr>\n",
       "    <tr>\n",
       "      <th>4</th>\n",
       "      <td>s5</td>\n",
       "      <td>Movie</td>\n",
       "      <td>21</td>\n",
       "      <td>Robert Luketic</td>\n",
       "      <td>Jim Sturgess, Kevin Spacey, Kate Bosworth, Aar...</td>\n",
       "      <td>United States</td>\n",
       "      <td>January 1, 2020</td>\n",
       "      <td>2008</td>\n",
       "      <td>123</td>\n",
       "      <td>A brilliant group of students become card-coun...</td>\n",
       "      <td>Dramas</td>\n",
       "    </tr>\n",
       "  </tbody>\n",
       "</table>\n",
       "</div>"
      ],
      "text/plain": [
       "  show_id     type  title           director  \\\n",
       "0      s1  TV Show     3%                NaN   \n",
       "1      s2    Movie   7:19  Jorge Michel Grau   \n",
       "2      s3    Movie  23:59       Gilbert Chan   \n",
       "3      s4    Movie      9        Shane Acker   \n",
       "4      s5    Movie     21     Robert Luketic   \n",
       "\n",
       "                                                cast        country  \\\n",
       "0  João Miguel, Bianca Comparato, Michel Gomes, R...         Brazil   \n",
       "1  Demián Bichir, Héctor Bonilla, Oscar Serrano, ...         Mexico   \n",
       "2  Tedd Chan, Stella Chung, Henley Hii, Lawrence ...      Singapore   \n",
       "3  Elijah Wood, John C. Reilly, Jennifer Connelly...  United States   \n",
       "4  Jim Sturgess, Kevin Spacey, Kate Bosworth, Aar...  United States   \n",
       "\n",
       "          date_added  release_year  duration  \\\n",
       "0    August 14, 2020          2020         4   \n",
       "1  December 23, 2016          2016        93   \n",
       "2  December 20, 2018          2011        78   \n",
       "3  November 16, 2017          2009        80   \n",
       "4    January 1, 2020          2008       123   \n",
       "\n",
       "                                         description             genre  \n",
       "0  In a future where the elite inhabit an island ...  International TV  \n",
       "1  After a devastating earthquake hits Mexico Cit...            Dramas  \n",
       "2  When an army recruit is found dead, his fellow...     Horror Movies  \n",
       "3  In a postapocalyptic world, rag-doll robots hi...            Action  \n",
       "4  A brilliant group of students become card-coun...            Dramas  "
      ]
     },
     "execution_count": 21,
     "metadata": {},
     "output_type": "execute_result"
    }
   ],
   "source": [
    "netflix_df.head(5)"
   ]
  },
  {
   "cell_type": "markdown",
   "metadata": {
    "id": "3WITyMRQlAwt"
   },
   "source": [
    "## 6. Filtering for movies!\n",
    "<p>Okay, we have our data! Now we can dive in and start looking at movie lengths. </p>\n",
    "<p>Or can we? Looking at the first five rows of our new DataFrame, we notice a column <code>type</code>. Scanning the column, it's clear there are also TV shows in the dataset! Moreover, the <code>duration</code> column we planned to use seems to represent different values depending on whether the row is a movie or a show (perhaps the number of minutes versus the number of seasons)?</p>\n",
    "<p>Fortunately, a DataFrame allows us to filter data quickly, and we can select rows where <code>type</code> is <code>Movie</code>. While we're at it, we don't need information from all of the columns, so let's create a new DataFrame <code>netflix_movies</code> containing only <code>title</code>, <code>country</code>, <code>genre</code>, <code>release_year</code>, and <code>duration</code>.</p>\n"
   ]
  },
  {
   "cell_type": "markdown",
   "metadata": {},
   "source": [
    "### 6.1 Subset the DataFrame for type \"Movie\""
   ]
  },
  {
   "cell_type": "code",
   "execution_count": 22,
   "metadata": {},
   "outputs": [],
   "source": [
    "netflix_df_movies_only = netflix_df[netflix_df[\"type\"] == \"Movie\"]"
   ]
  },
  {
   "cell_type": "markdown",
   "metadata": {},
   "source": [
    "### 6.2 Select only the columns of interest"
   ]
  },
  {
   "cell_type": "code",
   "execution_count": 23,
   "metadata": {},
   "outputs": [],
   "source": [
    "netflix_movies_col_subset = netflix_df_movies_only[[\"title\", \"country\", \"genre\", \"release_year\", \"duration\"]]"
   ]
  },
  {
   "cell_type": "markdown",
   "metadata": {},
   "source": [
    "### 6.3 Print the first five rows of the new DataFrame"
   ]
  },
  {
   "cell_type": "code",
   "execution_count": 24,
   "metadata": {},
   "outputs": [
    {
     "data": {
      "text/html": [
       "<div>\n",
       "<style scoped>\n",
       "    .dataframe tbody tr th:only-of-type {\n",
       "        vertical-align: middle;\n",
       "    }\n",
       "\n",
       "    .dataframe tbody tr th {\n",
       "        vertical-align: top;\n",
       "    }\n",
       "\n",
       "    .dataframe thead th {\n",
       "        text-align: right;\n",
       "    }\n",
       "</style>\n",
       "<table border=\"1\" class=\"dataframe\">\n",
       "  <thead>\n",
       "    <tr style=\"text-align: right;\">\n",
       "      <th></th>\n",
       "      <th>title</th>\n",
       "      <th>country</th>\n",
       "      <th>genre</th>\n",
       "      <th>release_year</th>\n",
       "      <th>duration</th>\n",
       "    </tr>\n",
       "  </thead>\n",
       "  <tbody>\n",
       "    <tr>\n",
       "      <th>1</th>\n",
       "      <td>7:19</td>\n",
       "      <td>Mexico</td>\n",
       "      <td>Dramas</td>\n",
       "      <td>2016</td>\n",
       "      <td>93</td>\n",
       "    </tr>\n",
       "    <tr>\n",
       "      <th>2</th>\n",
       "      <td>23:59</td>\n",
       "      <td>Singapore</td>\n",
       "      <td>Horror Movies</td>\n",
       "      <td>2011</td>\n",
       "      <td>78</td>\n",
       "    </tr>\n",
       "    <tr>\n",
       "      <th>3</th>\n",
       "      <td>9</td>\n",
       "      <td>United States</td>\n",
       "      <td>Action</td>\n",
       "      <td>2009</td>\n",
       "      <td>80</td>\n",
       "    </tr>\n",
       "    <tr>\n",
       "      <th>4</th>\n",
       "      <td>21</td>\n",
       "      <td>United States</td>\n",
       "      <td>Dramas</td>\n",
       "      <td>2008</td>\n",
       "      <td>123</td>\n",
       "    </tr>\n",
       "    <tr>\n",
       "      <th>6</th>\n",
       "      <td>122</td>\n",
       "      <td>Egypt</td>\n",
       "      <td>Horror Movies</td>\n",
       "      <td>2019</td>\n",
       "      <td>95</td>\n",
       "    </tr>\n",
       "  </tbody>\n",
       "</table>\n",
       "</div>"
      ],
      "text/plain": [
       "   title        country          genre  release_year  duration\n",
       "1   7:19         Mexico         Dramas          2016        93\n",
       "2  23:59      Singapore  Horror Movies          2011        78\n",
       "3      9  United States         Action          2009        80\n",
       "4     21  United States         Dramas          2008       123\n",
       "6    122          Egypt  Horror Movies          2019        95"
      ]
     },
     "execution_count": 24,
     "metadata": {},
     "output_type": "execute_result"
    }
   ],
   "source": [
    "netflix_movies_col_subset.head(5)"
   ]
  }
 ],
 "metadata": {
  "colab": {
   "name": "Workshop_EDA_ Netflix.ipynb",
   "provenance": []
  },
  "kernelspec": {
   "display_name": "Python 3 (ipykernel)",
   "language": "python",
   "name": "python3"
  },
  "language_info": {
   "codemirror_mode": {
    "name": "ipython",
    "version": 3
   },
   "file_extension": ".py",
   "mimetype": "text/x-python",
   "name": "python",
   "nbconvert_exporter": "python",
   "pygments_lexer": "ipython3",
   "version": "3.9.13"
  },
  "toc": {
   "base_numbering": 1,
   "nav_menu": {},
   "number_sections": true,
   "sideBar": true,
   "skip_h1_title": false,
   "title_cell": "Table of Contents",
   "title_sidebar": "Contents",
   "toc_cell": true,
   "toc_position": {
    "height": "calc(100% - 180px)",
    "left": "10px",
    "top": "150px",
    "width": "221px"
   },
   "toc_section_display": true,
   "toc_window_display": true
  }
 },
 "nbformat": 4,
 "nbformat_minor": 4
}
