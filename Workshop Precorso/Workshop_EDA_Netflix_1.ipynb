{
 "cells": [
  {
   "cell_type": "markdown",
   "metadata": {
    "id": "r2r1Ol25lAwc",
    "toc": true
   },
   "source": [
    "<h1>Table of Contents<span class=\"tocSkip\"></span></h1>\n",
    "<div class=\"toc\"><ul class=\"toc-item\"><li><span><a href=\"#1.-Loading-your-friend's-data-into-a-dictionary\" data-toc-modified-id=\"1.-Loading-your-friend's-data-into-a-dictionary-1\"><span class=\"toc-item-num\">1&nbsp;&nbsp;</span>1. Loading your friend's data into a dictionary</a></span><ul class=\"toc-item\"><li><span><a href=\"#Extra!\" data-toc-modified-id=\"Extra!-1.1\"><span class=\"toc-item-num\">1.1&nbsp;&nbsp;</span>Extra!</a></span></li></ul></li></ul></div>"
   ]
  },
  {
   "attachments": {
    "netflix-icona.jpeg": {
     "image/jpeg": "[encoded data removed]"
    }
   },
   "cell_type": "markdown",
   "metadata": {
    "id": "v4cJjiCylAwh",
    "outputId": "cf972f1c-6f9f-4e0b-a956-f7c6ff330a70"
   },
   "source": [
    "![netflix-icona.jpeg](attachment:netflix-icona.jpeg)"
   ]
  },
  {
   "cell_type": "markdown",
   "metadata": {
    "id": "2msekGDTlAwk"
   },
   "source": [
    "## 1. Loading your friend's data into a dictionary"
   ]
  },
  {
   "cell_type": "markdown",
   "metadata": {
    "id": "BfyjiwIdlAwk"
   },
   "source": [
    "Netflix! What started in 1997 as a DVD rental service has since exploded into the largest entertainment/media company by <a href=\"https://www.marketwatch.com/story/netflix-shares-close-up-8-for-yet-another-record-high-2020-07-10\">market capitalization</a>, boasting over 200 million subscribers as of <a href=\"https://www.cbsnews.com/news/netflix-tops-200-million-subscribers-but-faces-growing-challenge-from-disney-plus/\">January 2021</a>.\n",
    "\n",
    "Given the large number of movies and series available on the platform, it is a perfect opportunity to flex our data manipulation skills and dive into the entertainment industry. Our friend has also been brushing up on their Python skills and has taken a first crack at a CSV file containing Netflix data. For their first order of business, they have been performing some analyses, and they believe that the average duration of movies has been declining.\n",
    "\n",
    "As evidence of this, they have provided us with the following information. For the years from 2011 to 2020, the average movie durations are 103, 101, 99, 100, 100, 95, 95, 96, 93, and 90, respectively."
   ]
  },
  {
   "cell_type": "code",
   "execution_count": null,
   "metadata": {
    "id": "hZWQYkRelAwm"
   },
   "outputs": [],
   "source": [
    "# Create the years and durations lists\n",
    "\n",
    "\n",
    "# Print the 4th element (non position!) of the years list and the elements \n",
    "\n",
    "\n",
    "# between the second and the fifth (included!) of the duration list\n",
    "\n",
    "\n",
    "# Create a For Cycle to print each pair of elements of the 2 lists in this format:\n",
    "'''anno: xxxx durata: yyy'''\n",
    "  "
   ]
  },
  {
   "cell_type": "markdown",
   "metadata": {},
   "source": [
    "### 1.1 Create years and duration lists"
   ]
  },
  {
   "cell_type": "code",
   "execution_count": 1,
   "metadata": {
    "scrolled": true
   },
   "outputs": [
    {
     "name": "stdout",
     "output_type": "stream",
     "text": [
      "[2011, 2012, 2013, 2014, 2015, 2016, 2017, 2018, 2019, 2020]\n",
      "[103, 101, 99, 100, 100, 95, 95, 96, 93, 90]\n"
     ]
    }
   ],
   "source": [
    "years=[2011, 2012, 2013, 2014, 2015, 2016, 2017, 2018, 2019, 2020]\n",
    "avg_movie_dur=[103, 101, 99, 100, 100, 95, 95, 96, 93, 90]\n",
    "print(years)\n",
    "print(avg_movie_dur)"
   ]
  },
  {
   "cell_type": "code",
   "execution_count": 4,
   "metadata": {},
   "outputs": [
    {
     "data": {
      "text/plain": [
       "[2011, 2012, 2013, 2014, 2015, 2016, 2017, 2018, 2019, 2020]"
      ]
     },
     "execution_count": 4,
     "metadata": {},
     "output_type": "execute_result"
    }
   ],
   "source": [
    "years=list(range(2011,2021))\n",
    "years"
   ]
  },
  {
   "cell_type": "markdown",
   "metadata": {},
   "source": [
    "### 1.2 Print the 4th element of the years"
   ]
  },
  {
   "cell_type": "code",
   "execution_count": 2,
   "metadata": {},
   "outputs": [
    {
     "name": "stdout",
     "output_type": "stream",
     "text": [
      "2014\n"
     ]
    }
   ],
   "source": [
    "print(years[3])"
   ]
  },
  {
   "cell_type": "markdown",
   "metadata": {},
   "source": [
    "### 1.3 Print the elements between the second and the fifth of the duration list"
   ]
  },
  {
   "cell_type": "code",
   "execution_count": 3,
   "metadata": {
    "scrolled": true
   },
   "outputs": [
    {
     "name": "stdout",
     "output_type": "stream",
     "text": [
      "[101, 99, 100, 100]\n"
     ]
    }
   ],
   "source": [
    "print(avg_movie_dur[1:5])"
   ]
  },
  {
   "cell_type": "markdown",
   "metadata": {},
   "source": [
    "### 1.4 Create a FOR cycle to print each pair of elements of the two lists in the format '''anno: xxxx durata: yyy'''"
   ]
  },
  {
   "cell_type": "code",
   "execution_count": 4,
   "metadata": {},
   "outputs": [
    {
     "name": "stdout",
     "output_type": "stream",
     "text": [
      "anno: 2011, durata: 103\n",
      "anno: 2012, durata: 101\n",
      "anno: 2013, durata: 99\n",
      "anno: 2014, durata: 100\n",
      "anno: 2015, durata: 100\n",
      "anno: 2016, durata: 95\n",
      "anno: 2017, durata: 95\n",
      "anno: 2018, durata: 96\n",
      "anno: 2019, durata: 93\n",
      "anno: 2020, durata: 90\n"
     ]
    }
   ],
   "source": [
    "for i in range(10):\n",
    "    print(\"anno: {}, durata: {}\".format(years[i], avg_movie_dur[i])) "
   ]
  },
  {
   "cell_type": "markdown",
   "metadata": {},
   "source": [
    "### 1.5 Create a dictionary with the two lists and print the dictionary"
   ]
  },
  {
   "cell_type": "code",
   "execution_count": 5,
   "metadata": {
    "scrolled": true
   },
   "outputs": [
    {
     "name": "stdout",
     "output_type": "stream",
     "text": [
      "{2011: 103, 2012: 101, 2013: 99, 2014: 100, 2015: 100, 2016: 95, 2017: 95, 2018: 96, 2019: 93, 2020: 90}\n"
     ]
    }
   ],
   "source": [
    "dictionary = dict(zip(years, avg_movie_dur))\n",
    "print(dictionary)"
   ]
  }
 ],
 "metadata": {
  "colab": {
   "name": "Workshop_EDA_ Netflix.ipynb",
   "provenance": []
  },
  "kernelspec": {
   "display_name": "Python 3 (ipykernel)",
   "language": "python",
   "name": "python3"
  },
  "language_info": {
   "codemirror_mode": {
    "name": "ipython",
    "version": 3
   },
   "file_extension": ".py",
   "mimetype": "text/x-python",
   "name": "python",
   "nbconvert_exporter": "python",
   "pygments_lexer": "ipython3",
   "version": "3.9.13"
  },
  "toc": {
   "base_numbering": 1,
   "nav_menu": {},
   "number_sections": true,
   "sideBar": true,
   "skip_h1_title": false,
   "title_cell": "Table of Contents",
   "title_sidebar": "Contents",
   "toc_cell": true,
   "toc_position": {
    "height": "calc(100% - 180px)",
    "left": "10px",
    "top": "150px",
    "width": "221px"
   },
   "toc_section_display": true,
   "toc_window_display": true
  }
 },
 "nbformat": 4,
 "nbformat_minor": 1
}
